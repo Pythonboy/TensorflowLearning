{
 "cells": [
  {
   "cell_type": "markdown",
   "metadata": {},
   "source": [
    "# 简单版本\n",
    "**loss 使用 二次代价函数**"
   ]
  },
  {
   "cell_type": "code",
   "execution_count": 1,
   "metadata": {},
   "outputs": [],
   "source": [
    "import os\n",
    "t = os.listdir(os.getcwd())"
   ]
  },
  {
   "cell_type": "code",
   "execution_count": 2,
   "metadata": {},
   "outputs": [
    {
     "name": "stdout",
     "output_type": "stream",
     "text": [
      "['.ipynb_checkpoints', 'BasicOperation.md', 'Basic_neural_network.ipynb', 'Imitation.ipynb', 'LogisticRegression.ipynb', 'MNIST.ipynb', 'MNIST_data', 'Note.md', 'reduce_mean_reduce_sum.md', 'SimpleLinearRegression.ipynb', 'Variable.md']\n"
     ]
    }
   ],
   "source": [
    "print(t)\n"
   ]
  },
  {
   "cell_type": "code",
   "execution_count": 3,
   "metadata": {},
   "outputs": [],
   "source": [
    "import tensorflow as tf\n",
    "from tensorflow.examples.tutorials.mnist import input_data"
   ]
  },
  {
   "cell_type": "code",
   "execution_count": 4,
   "metadata": {},
   "outputs": [
    {
     "name": "stdout",
     "output_type": "stream",
     "text": [
      "WARNING:tensorflow:From <ipython-input-4-7f100631e9eb>:1: read_data_sets (from tensorflow.contrib.learn.python.learn.datasets.mnist) is deprecated and will be removed in a future version.\n",
      "Instructions for updating:\n",
      "Please use alternatives such as official/mnist/dataset.py from tensorflow/models.\n",
      "WARNING:tensorflow:From C:\\Users\\Canaan\\Anaconda3\\lib\\site-packages\\tensorflow\\contrib\\learn\\python\\learn\\datasets\\mnist.py:260: maybe_download (from tensorflow.contrib.learn.python.learn.datasets.base) is deprecated and will be removed in a future version.\n",
      "Instructions for updating:\n",
      "Please write your own downloading logic.\n",
      "WARNING:tensorflow:From C:\\Users\\Canaan\\Anaconda3\\lib\\site-packages\\tensorflow\\contrib\\learn\\python\\learn\\datasets\\mnist.py:262: extract_images (from tensorflow.contrib.learn.python.learn.datasets.mnist) is deprecated and will be removed in a future version.\n",
      "Instructions for updating:\n",
      "Please use tf.data to implement this functionality.\n",
      "Extracting MNIST_data\\train-images-idx3-ubyte.gz\n",
      "WARNING:tensorflow:From C:\\Users\\Canaan\\Anaconda3\\lib\\site-packages\\tensorflow\\contrib\\learn\\python\\learn\\datasets\\mnist.py:267: extract_labels (from tensorflow.contrib.learn.python.learn.datasets.mnist) is deprecated and will be removed in a future version.\n",
      "Instructions for updating:\n",
      "Please use tf.data to implement this functionality.\n",
      "Extracting MNIST_data\\train-labels-idx1-ubyte.gz\n",
      "WARNING:tensorflow:From C:\\Users\\Canaan\\Anaconda3\\lib\\site-packages\\tensorflow\\contrib\\learn\\python\\learn\\datasets\\mnist.py:110: dense_to_one_hot (from tensorflow.contrib.learn.python.learn.datasets.mnist) is deprecated and will be removed in a future version.\n",
      "Instructions for updating:\n",
      "Please use tf.one_hot on tensors.\n",
      "Extracting MNIST_data\\t10k-images-idx3-ubyte.gz\n",
      "Extracting MNIST_data\\t10k-labels-idx1-ubyte.gz\n",
      "WARNING:tensorflow:From C:\\Users\\Canaan\\Anaconda3\\lib\\site-packages\\tensorflow\\contrib\\learn\\python\\learn\\datasets\\mnist.py:290: DataSet.__init__ (from tensorflow.contrib.learn.python.learn.datasets.mnist) is deprecated and will be removed in a future version.\n",
      "Instructions for updating:\n",
      "Please use alternatives such as official/mnist/dataset.py from tensorflow/models.\n"
     ]
    }
   ],
   "source": [
    "mnist = input_data.read_data_sets(\"MNIST_data\",one_hot = True)"
   ]
  },
  {
   "cell_type": "code",
   "execution_count": 5,
   "metadata": {},
   "outputs": [],
   "source": [
    "# 每个批次的大小\n",
    "batch_size = 100;\n",
    "#计算总共有多少个批次\n",
    "n_batch = mnist.train.num_examples // batch_size;"
   ]
  },
  {
   "cell_type": "code",
   "execution_count": 6,
   "metadata": {},
   "outputs": [],
   "source": [
    "# 定义两个placeholder\n",
    "x = tf.placeholder(tf.float32,[None,784]);\n",
    "y = tf.placeholder(tf.float32,[None,10]);\n"
   ]
  },
  {
   "cell_type": "code",
   "execution_count": 7,
   "metadata": {},
   "outputs": [],
   "source": [
    "#创建一个简单的神经网络\n",
    "W = tf.Variable(tf.ones([784,10]));\n",
    "b = tf.Variable(tf.ones([10]));\n",
    "prediction1 = tf.nn.softmax(tf.matmul(x,W)+b);\n"
   ]
  },
  {
   "cell_type": "code",
   "execution_count": 8,
   "metadata": {},
   "outputs": [],
   "source": [
    "# 二次代价函数\n",
    "loss = tf.reduce_mean(tf.square(y - prediction));  #MSE\n",
    "#cross_entropy = -tf.reduce_sum(y*tf.log(prediction))\n",
    "\n",
    "#使用梯度下降法优化器\n",
    "train_step = tf.train.GradientDescentOptimizer(0.1).minimize(loss);"
   ]
  },
  {
   "cell_type": "code",
   "execution_count": 9,
   "metadata": {},
   "outputs": [],
   "source": [
    "#初始化变量\n",
    "init = tf.global_variables_initializer()"
   ]
  },
  {
   "cell_type": "code",
   "execution_count": 10,
   "metadata": {},
   "outputs": [],
   "source": [
    "# 结果放在一个布尔型列表中\n",
    "correct_prediction = tf.equal(tf.argmax(y,1),tf.argmax(prediction,1))"
   ]
  },
  {
   "cell_type": "code",
   "execution_count": 11,
   "metadata": {},
   "outputs": [],
   "source": [
    "# 求准确率\n",
    "accuracy = tf.reduce_mean(tf.cast(correct_prediction,tf.float32));"
   ]
  },
  {
   "cell_type": "code",
   "execution_count": 12,
   "metadata": {},
   "outputs": [
    {
     "name": "stdout",
     "output_type": "stream",
     "text": [
      "Iter0,Testing Accuray0.7407\n",
      "Iter1,Testing Accuray0.8299\n",
      "Iter2,Testing Accuray0.859\n",
      "Iter3,Testing Accuray0.8708\n",
      "Iter4,Testing Accuray0.8778\n",
      "Iter5,Testing Accuray0.8809\n",
      "Iter6,Testing Accuray0.8847\n",
      "Iter7,Testing Accuray0.8883\n",
      "Iter8,Testing Accuray0.891\n",
      "Iter9,Testing Accuray0.8946\n",
      "Iter10,Testing Accuray0.8967\n",
      "Iter11,Testing Accuray0.8974\n",
      "Iter12,Testing Accuray0.8985\n",
      "Iter13,Testing Accuray0.8996\n",
      "Iter14,Testing Accuray0.9\n",
      "Iter15,Testing Accuray0.9018\n",
      "Iter16,Testing Accuray0.9023\n",
      "Iter17,Testing Accuray0.9033\n",
      "Iter18,Testing Accuray0.9045\n",
      "Iter19,Testing Accuray0.9053\n",
      "Iter20,Testing Accuray0.9059\n"
     ]
    }
   ],
   "source": [
    "with tf.Session() as sess:\n",
    "    sess.run(init);\n",
    "    for epoch in range(21):\n",
    "        for batch in range(n_batch):\n",
    "            batch_xs,batch_ys = mnist.train.next_batch(batch_size);\n",
    "            sess.run(train_step,feed_dict = {x : batch_xs, y : batch_ys});\n",
    "        \n",
    "        acc = sess.run(accuracy,feed_dict = {x : mnist.test.images , y: mnist.test.labels});\n",
    "        print(\"Iter\" + str(epoch) + \",Testing Accuray\" + str(acc));"
   ]
  },
  {
   "cell_type": "markdown",
   "metadata": {},
   "source": [
    "# 使用交叉熵"
   ]
  },
  {
   "cell_type": "code",
   "execution_count": 17,
   "metadata": {},
   "outputs": [
    {
     "name": "stdout",
     "output_type": "stream",
     "text": [
      "Iter0,Testing Accuray0.9017\n",
      "Iter1,Testing Accuray0.9095\n",
      "Iter2,Testing Accuray0.9146\n",
      "Iter3,Testing Accuray0.9165\n",
      "Iter4,Testing Accuray0.9188\n",
      "Iter5,Testing Accuray0.9194\n",
      "Iter6,Testing Accuray0.9207\n",
      "Iter7,Testing Accuray0.9215\n",
      "Iter8,Testing Accuray0.9211\n",
      "Iter9,Testing Accuray0.9203\n",
      "Iter10,Testing Accuray0.9235\n",
      "Iter11,Testing Accuray0.9222\n",
      "Iter12,Testing Accuray0.922\n",
      "Iter13,Testing Accuray0.9217\n",
      "Iter14,Testing Accuray0.923\n",
      "Iter15,Testing Accuray0.9227\n",
      "Iter16,Testing Accuray0.9238\n",
      "Iter17,Testing Accuray0.9236\n",
      "Iter18,Testing Accuray0.9239\n",
      "Iter19,Testing Accuray0.9229\n",
      "Iter20,Testing Accuray0.9237\n"
     ]
    }
   ],
   "source": [
    "prediction2 = tf.matmul(x,W)+b;\n",
    "loss = tf.reduce_mean(tf.nn.softmax_cross_entropy_with_logits(logits = prediction2,labels = y))\n",
    "train_step = tf.train.GradientDescentOptimizer(0.1).minimize(loss);\n",
    "with tf.Session() as sess:\n",
    "    sess.run(init);\n",
    "    for epoch in range(21):\n",
    "        for batch in range(n_batch):\n",
    "            batch_xs,batch_ys = mnist.train.next_batch(batch_size);\n",
    "            sess.run(train_step,feed_dict = {x : batch_xs, y : batch_ys});\n",
    "        \n",
    "        acc = sess.run(accuracy,feed_dict = {x : mnist.test.images , y: mnist.test.labels});\n",
    "        print(\"Iter\" + str(epoch) + \",Testing Accuray\" + str(acc));"
   ]
  },
  {
   "cell_type": "markdown",
   "metadata": {},
   "source": [
    "# 使用隐藏层"
   ]
  },
  {
   "cell_type": "code",
   "execution_count": 34,
   "metadata": {
    "scrolled": true
   },
   "outputs": [
    {
     "data": {
      "image/png": "[encoded data removed]",
      "text/plain": [
       "<Figure size 360x360 with 1 Axes>"
      ]
     },
     "metadata": {
      "needs_background": "light"
     },
     "output_type": "display_data"
    }
   ],
   "source": [
    "import tensorflow as tf\n",
    "# 定义两个placeholder\n",
    "x = tf.placeholder(tf.float32,[None,784]);\n",
    "y = tf.placeholder(tf.float32,[None,10]);\n",
    "keep_prob = tf.placeholder(tf.float32)\n",
    "# 定义第一个隐藏层\n",
    "W1 = tf.Variable(tf.truncated_normal([784,100],stddev = 0.1))\n",
    "b1 = tf.Variable(tf.zeros([100]) + 0.1);\n",
    "L1 = tf.nn.relu(tf.matmul(x,W1) + b1);\n",
    "L1_drop = tf.nn.dropout(L1,keep_prob);\n",
    "# 定输出层\n",
    "W2= tf.Variable(tf.truncated_normal([100,10],stddev = 0.1))\n",
    "b2 = tf.Variable(tf.zeros([10]) + 0.1);\n",
    "prediction = tf.matmul(L1,W2) + b2;\n",
    "\n",
    "# 交叉熵\n",
    "loss = tf.reduce_mean(tf.nn.softmax_cross_entropy_with_logits(logits = prediction,labels = y))\n",
    "\n",
    "# 梯度下降优化\n",
    "train_step = tf.train.GradientDescentOptimizer(0.1).minimize(loss);\n",
    "Train = [];\n",
    "Test = [];\n",
    "#初始化变量\n",
    "init = tf.global_variables_initializer()\n",
    "# 结果放在一个布尔型列表中\n",
    "correct_prediction = tf.equal(tf.argmax(y,1),tf.argmax(prediction,1))\n",
    "# 求准确率\n",
    "accuracy = tf.reduce_mean(tf.cast(correct_prediction,tf.float32));\n",
    "\n",
    "with tf.Session() as sess:\n",
    "    sess.run(init);\n",
    "    for epoch in range(31):\n",
    "        for batch in range(n_batch):\n",
    "            batch_xs,batch_ys = mnist.train.next_batch(batch_size);\n",
    "            sess.run(train_step,feed_dict = {x : batch_xs, y : batch_ys,kepp_prob:1});\n",
    "        \n",
    "        test_acc = sess.run(accuracy,feed_dict = {x : mnist.test.images , y: mnist.test.labels，keep_prob:1.0});\n",
    "        train_acc = sess.run(accuracy,feed_dict = {x : mnist.train.images , y: mnist.train.labels:1.0});\n",
    "        Train.append(train_acc);\n",
    "        Test.append(test_acc);\n",
    "import matplotlib.pyplot as plt\n",
    "import numpy as np\n",
    "plt.figure(figsize = (5,5));\n",
    "plt.plot(np.arange(31),Train,label = \"Train accuracy\",color = \"green\");\n",
    "plt.plot(np.arange(31),Test,label = \"Test accuracy\",color = \"red\");\n",
    "plt.show()\n",
    "\n",
    "# result :  过拟合了"
   ]
  },
  {
   "cell_type": "code",
   "execution_count": null,
   "metadata": {},
   "outputs": [],
   "source": [
    "# 使用了dropout防止过拟合"
   ]
  },
  {
   "cell_type": "code",
   "execution_count": 37,
   "metadata": {},
   "outputs": [
    {
     "data": {
      "image/png": "[encoded data removed]",
      "text/plain": [
       "<Figure size 360x360 with 1 Axes>"
      ]
     },
     "metadata": {
      "needs_background": "light"
     },
     "output_type": "display_data"
    }
   ],
   "source": [
    "import tensorflow as tf\n",
    "# 定义两个placeholder\n",
    "x = tf.placeholder(tf.float32,[None,784]);\n",
    "y = tf.placeholder(tf.float32,[None,10]);\n",
    "keep_prob = tf.placeholder(tf.float32)\n",
    "# 定义第一个隐藏层\n",
    "W1 = tf.Variable(tf.truncated_normal([784,100],stddev = 0.1))\n",
    "b1 = tf.Variable(tf.zeros([100]) + 0.1);\n",
    "L1 = tf.nn.relu(tf.matmul(x,W1) + b1);\n",
    "L1_drop = tf.nn.dropout(L1,keep_prob);\n",
    "# 定输出层\n",
    "W2= tf.Variable(tf.truncated_normal([100,10],stddev = 0.1))\n",
    "b2 = tf.Variable(tf.zeros([10]) + 0.1);\n",
    "prediction = tf.matmul(L1,W2) + b2;\n",
    "\n",
    "# 交叉熵\n",
    "loss = tf.reduce_mean(tf.nn.softmax_cross_entropy_with_logits(logits = prediction,labels = y))\n",
    "\n",
    "# 梯度下降优化\n",
    "train_step = tf.train.GradientDescentOptimizer(0.1).minimize(loss);\n",
    "Train = [];\n",
    "Test = [];\n",
    "#初始化变量\n",
    "init = tf.global_variables_initializer()\n",
    "# 结果放在一个布尔型列表中\n",
    "correct_prediction = tf.equal(tf.argmax(y,1),tf.argmax(prediction,1))\n",
    "# 求准确率\n",
    "accuracy = tf.reduce_mean(tf.cast(correct_prediction,tf.float32));\n",
    "\n",
    "with tf.Session() as sess:\n",
    "    sess.run(init);\n",
    "    for epoch in range(31):\n",
    "        for batch in range(n_batch):\n",
    "            batch_xs,batch_ys = mnist.train.next_batch(batch_size);\n",
    "            sess.run(train_step,feed_dict = {x : batch_xs, y : batch_ys,keep_prob:0.5});\n",
    "        \n",
    "        test_acc = sess.run(accuracy,feed_dict = {x : mnist.test.images , y: mnist.test.labels,keep_prob:1.0});\n",
    "        train_acc = sess.run(accuracy,feed_dict = {x : mnist.train.images , y: mnist.train.labels,keep_prob:1.0});\n",
    "        Train.append(train_acc);\n",
    "        Test.append(test_acc);\n",
    "import matplotlib.pyplot as plt\n",
    "import numpy as np\n",
    "plt.figure(figsize = (5,5));\n",
    "plt.plot(np.arange(31),Train,label = \"Train accuracy\",color = \"green\");\n",
    "plt.plot(np.arange(31),Test,label = \"Test accuracy\",color = \"red\");\n",
    "plt.show()\n",
    "\n",
    "\n",
    "# hhh,还是过拟合了\n"
   ]
  },
  {
   "cell_type": "code",
   "execution_count": null,
   "metadata": {},
   "outputs": [],
   "source": []
  }
 ],
 "metadata": {
  "kernelspec": {
   "display_name": "Python 3",
   "language": "python",
   "name": "python3"
  },
  "language_info": {
   "codemirror_mode": {
    "name": "ipython",
    "version": 3
   },
   "file_extension": ".py",
   "mimetype": "text/x-python",
   "name": "python",
   "nbconvert_exporter": "python",
   "pygments_lexer": "ipython3",
   "version": "3.6.7"
  }
 },
 "nbformat": 4,
 "nbformat_minor": 2
}
